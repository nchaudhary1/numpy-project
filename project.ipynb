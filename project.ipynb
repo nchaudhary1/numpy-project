{
  "nbformat": 4,
  "nbformat_minor": 0,
  "metadata": {
    "colab": {
      "name": "project",
      "provenance": []
    },
    "kernelspec": {
      "name": "python3",
      "display_name": "Python 3"
    },
    "language_info": {
      "name": "python"
    }
  },
  "cells": [
    {
      "cell_type": "code",
      "metadata": {
        "id": "MwAK2OUNeqxj"
      },
      "source": [
        ""
      ],
      "execution_count": null,
      "outputs": []
    },
    {
      "cell_type": "markdown",
      "metadata": {
        "id": "ObsgNkcLetF9"
      },
      "source": [
        "# Project:"
      ]
    },
    {
      "cell_type": "code",
      "metadata": {
        "colab": {
          "base_uri": "https://localhost:8080/"
        },
        "id": "cfJrowagev5k",
        "outputId": "8ba69356-6d4f-4cef-d2aa-0a2ef7020802"
      },
      "source": [
        "import numpy as np\n",
        "data_file = '/content/KAG_Conversion_Data.csv'\n",
        "data = np.genfromtxt(data_file,encoding=None ,delimiter=',',skip_header=1,dtype=str)\n",
        "d2e=np.genfromtxt(data_file, delimiter=\",\",dtype=float,skip_header=1)\n",
        "#printing the data\n",
        "print(\"\\nData: \\n\\n\", data)\n",
        "#printing the type of data\n",
        "print(\"\\nType of data: \\n\\n\", type(data))\n"
      ],
      "execution_count": 1,
      "outputs": [
        {
          "output_type": "stream",
          "name": "stdout",
          "text": [
            "\n",
            "Data: \n",
            "\n",
            " [['708746' '916' '103916' ... '1.429999948' '2' '1']\n",
            " ['708749' '916' '103917' ... '1.820000023' '2' '0']\n",
            " ['708771' '916' '103920' ... '0' '1' '0']\n",
            " ...\n",
            " ['1314412' '1178' '179979' ... '40.28999949' '2' '0']\n",
            " ['1314414' '1178' '179981' ... '198.7100005' '8' '2']\n",
            " ['1314415' '1178' '179982' ... '165.6099987' '5' '2']]\n",
            "\n",
            "Type of data: \n",
            "\n",
            " <class 'numpy.ndarray'>\n"
          ]
        }
      ]
    },
    {
      "cell_type": "code",
      "metadata": {
        "colab": {
          "base_uri": "https://localhost:8080/"
        },
        "id": "y6PCR9RmguFd",
        "outputId": "d449f2dc-db8f-4ad2-a972-0b2e28bd56c8"
      },
      "source": [
        "ad_id = data[:,0]\n",
        "print(ad_id)"
      ],
      "execution_count": 2,
      "outputs": [
        {
          "output_type": "stream",
          "name": "stdout",
          "text": [
            "['708746' '708749' '708771' ... '1314412' '1314414' '1314415']\n"
          ]
        }
      ]
    },
    {
      "cell_type": "code",
      "metadata": {
        "colab": {
          "base_uri": "https://localhost:8080/"
        },
        "id": "i4suwLxOh08g",
        "outputId": "3e63cb8a-5a1c-4ebf-a2b1-e8c78a3962d3"
      },
      "source": [
        "xyzcampaignid = data[:,1]\n",
        "print(xyzcampaignid)"
      ],
      "execution_count": 3,
      "outputs": [
        {
          "output_type": "stream",
          "name": "stdout",
          "text": [
            "['916' '916' '916' ... '1178' '1178' '1178']\n"
          ]
        }
      ]
    },
    {
      "cell_type": "markdown",
      "metadata": {
        "id": "EbhYk6R2k6kC"
      },
      "source": [
        "How many unique ad campaigns (xyzcampaignid) does this data contain ? And for how many times was each campaign run ?"
      ]
    },
    {
      "cell_type": "code",
      "metadata": {
        "colab": {
          "base_uri": "https://localhost:8080/"
        },
        "id": "9T3cPNuri238",
        "outputId": "336714d6-1b7e-4bb8-bf47-27503ff6de9f"
      },
      "source": [
        "cids=np.unique(xyzcampaignid)\n",
        "print(\"Number of unique ids:\",cids)"
      ],
      "execution_count": 30,
      "outputs": [
        {
          "output_type": "stream",
          "name": "stdout",
          "text": [
            "Number of unique ids: ['1178' '916' '936']\n"
          ]
        }
      ]
    },
    {
      "cell_type": "code",
      "metadata": {
        "colab": {
          "base_uri": "https://localhost:8080/"
        },
        "id": "pq7ncXfWtIl8",
        "outputId": "976e3889-aa4b-4487-b0fe-c748406c63e1"
      },
      "source": [
        "data"
      ],
      "execution_count": 5,
      "outputs": [
        {
          "output_type": "execute_result",
          "data": {
            "text/plain": [
              "array([['708746', '916', '103916', ..., '1.429999948', '2', '1'],\n",
              "       ['708749', '916', '103917', ..., '1.820000023', '2', '0'],\n",
              "       ['708771', '916', '103920', ..., '0', '1', '0'],\n",
              "       ...,\n",
              "       ['1314412', '1178', '179979', ..., '40.28999949', '2', '0'],\n",
              "       ['1314414', '1178', '179981', ..., '198.7100005', '8', '2'],\n",
              "       ['1314415', '1178', '179982', ..., '165.6099987', '5', '2']],\n",
              "      dtype='<U11')"
            ]
          },
          "metadata": {},
          "execution_count": 5
        }
      ]
    },
    {
      "cell_type": "code",
      "metadata": {
        "colab": {
          "base_uri": "https://localhost:8080/"
        },
        "id": "OYt0nxtQjEeN",
        "outputId": "a8dd8026-e832-484e-b27e-966ac73b2469"
      },
      "source": [
        "#print(len(data[data[: ,1]=='916']))\n",
        "#print(len(data[data[:,1] == '1178']))\n",
        "#print(len(data[data[:,1] == '936']))\n",
        "print(\"Campaign id      No. of times\")\n",
        "for i in cids:\n",
        "  print(i,\"               \",len(data[data[:,1]==i]))"
      ],
      "execution_count": 29,
      "outputs": [
        {
          "output_type": "stream",
          "name": "stdout",
          "text": [
            "Campaign id      No. of times\n",
            "1178                 625\n",
            "916                 54\n",
            "936                 464\n"
          ]
        }
      ]
    },
    {
      "cell_type": "markdown",
      "metadata": {
        "id": "deESu2LInvJj"
      },
      "source": [
        "What are the age groups that were targeted through these ad campaigns?"
      ]
    },
    {
      "cell_type": "code",
      "metadata": {
        "colab": {
          "base_uri": "https://localhost:8080/"
        },
        "id": "T0ivB3yGkFU8",
        "outputId": "dad7e66d-c6a0-479e-aaab-fe27e4f2613e"
      },
      "source": [
        "age_group = np.unique(data[:,3])\n",
        "print(\"Age group of people are: \",age_group)\n",
        "print(type(data[:,3]))"
      ],
      "execution_count": 65,
      "outputs": [
        {
          "output_type": "stream",
          "name": "stdout",
          "text": [
            "Age group of people are:  ['30-34' '35-39' '40-44' '45-49']\n",
            "<class 'numpy.ndarray'>\n"
          ]
        }
      ]
    },
    {
      "cell_type": "code",
      "metadata": {
        "colab": {
          "base_uri": "https://localhost:8080/"
        },
        "id": "bS4EIZ-Ok1hV",
        "outputId": "0bb0b4bd-7cfd-42ae-d636-36053faf497e"
      },
      "source": [
        "#What was the average, minimum and maximum amount spent on the ads?\n",
        "\n",
        "ads_amount=d2e[:,8]\n",
        "print(ads_amount)\n",
        "\n"
      ],
      "execution_count": 8,
      "outputs": [
        {
          "output_type": "stream",
          "name": "stdout",
          "text": [
            "[  1.42999995   1.82000002   0.         ...  40.28999949 198.7100005\n",
            " 165.6099987 ]\n"
          ]
        }
      ]
    },
    {
      "cell_type": "code",
      "metadata": {
        "colab": {
          "base_uri": "https://localhost:8080/"
        },
        "id": "k9L-xJHFunkd",
        "outputId": "fd4bbf6f-ab44-454f-a790-907e644f3c02"
      },
      "source": [
        "print(np.mean(ads_amount))"
      ],
      "execution_count": 9,
      "outputs": [
        {
          "output_type": "stream",
          "name": "stdout",
          "text": [
            "51.36065613141295\n"
          ]
        }
      ]
    },
    {
      "cell_type": "code",
      "metadata": {
        "colab": {
          "base_uri": "https://localhost:8080/"
        },
        "id": "1K_yaPwLmVy5",
        "outputId": "2dc28019-d772-4f4a-9d82-be9b59e09d42"
      },
      "source": [
        "print(np.min(ads_amount)) # minimum amount spend"
      ],
      "execution_count": 10,
      "outputs": [
        {
          "output_type": "stream",
          "name": "stdout",
          "text": [
            "0.0\n"
          ]
        }
      ]
    },
    {
      "cell_type": "code",
      "metadata": {
        "colab": {
          "base_uri": "https://localhost:8080/"
        },
        "id": "Wi6dOaVEoNWA",
        "outputId": "0fc8f06d-a72e-4c97-eeb4-315e879a92c1"
      },
      "source": [
        "print(np.max(ads_amount)) # maximum amount spend"
      ],
      "execution_count": 11,
      "outputs": [
        {
          "output_type": "stream",
          "name": "stdout",
          "text": [
            "639.9499981\n"
          ]
        }
      ]
    },
    {
      "cell_type": "code",
      "metadata": {
        "colab": {
          "base_uri": "https://localhost:8080/"
        },
        "id": "9hq3WTn5oWZ8",
        "outputId": "0c2c0e06-b108-4867-febb-a39acd90e53c"
      },
      "source": [
        "#id of add having maximum number of clicks\n",
        "print(np.max(d2e[:,7]))"
      ],
      "execution_count": 12,
      "outputs": [
        {
          "output_type": "stream",
          "name": "stdout",
          "text": [
            "421.0\n"
          ]
        }
      ]
    },
    {
      "cell_type": "code",
      "metadata": {
        "colab": {
          "base_uri": "https://localhost:8080/"
        },
        "id": "UxXjU2UAo_KD",
        "outputId": "6025c050-5236-4097-c969-af722a34dc6d"
      },
      "source": [
        "clicks = np.array(d2e[:,7])\n",
        "print(clicks)"
      ],
      "execution_count": 13,
      "outputs": [
        {
          "output_type": "stream",
          "name": "stdout",
          "text": [
            "[  1.   2.   0. ...  28. 135. 114.]\n"
          ]
        }
      ]
    },
    {
      "cell_type": "code",
      "metadata": {
        "colab": {
          "base_uri": "https://localhost:8080/"
        },
        "id": "cKVz2rFLpxZd",
        "outputId": "4819d25d-2fdf-408c-c7d5-5c5f430c40c6"
      },
      "source": [
        "print(max(clicks))\n",
        "idx_mclick=list(clicks).index(max(clicks)) #index of add with maximum number of clicks\n",
        "print(\"Index of max no. of click is: \",idx_mclick)"
      ],
      "execution_count": 61,
      "outputs": [
        {
          "output_type": "stream",
          "name": "stdout",
          "text": [
            "421.0\n",
            "Index of max no. of click is:  860\n"
          ]
        }
      ]
    },
    {
      "cell_type": "code",
      "metadata": {
        "colab": {
          "base_uri": "https://localhost:8080/"
        },
        "id": "WwBnLKL6qddB",
        "outputId": "0864f2d9-a3a1-4501-977f-f37a17aa0319"
      },
      "source": [
        "#ad_id with maximum number of clicks\n",
        "ad_id_maximum_clicks = d2e[idx_mclick,0]\n",
        "print(\" ad_id with maximum number of clicks: \",ad_id_maximum_clicks)"
      ],
      "execution_count": 62,
      "outputs": [
        {
          "output_type": "stream",
          "name": "stdout",
          "text": [
            " ad_id with maximum number of clicks:  1121814.0\n"
          ]
        }
      ]
    },
    {
      "cell_type": "code",
      "metadata": {
        "id": "cvHv0EMbyy0J",
        "colab": {
          "base_uri": "https://localhost:8080/"
        },
        "outputId": "9bef49c4-c1f7-4e65-d96a-4b288c92ff57"
      },
      "source": [
        "total_buying = d2e[:,10]\n",
        "boughgt_product=total_buying[idx_mclick]\n",
        "print(boughgt_product)\n"
      ],
      "execution_count": 56,
      "outputs": [
        {
          "output_type": "stream",
          "name": "stdout",
          "text": [
            "13.0\n"
          ]
        }
      ]
    },
    {
      "cell_type": "code",
      "metadata": {
        "id": "UI6MmwA2te4S"
      },
      "source": [
        ""
      ],
      "execution_count": null,
      "outputs": []
    },
    {
      "cell_type": "code",
      "metadata": {
        "colab": {
          "base_uri": "https://localhost:8080/"
        },
        "id": "wG2vgOdFrIjJ",
        "outputId": "a2267a70-0cf8-4a2b-c8f5-641f80f9f3e6"
      },
      "source": [
        "if (boughgt_product == max(total_buying)):\n",
        "  print(\"Yes, it is the maximum no. of purchases.\")\n",
        "else:\n",
        "  print(\"No, it is not the maximum number of purchases.\")"
      ],
      "execution_count": 63,
      "outputs": [
        {
          "output_type": "stream",
          "name": "stdout",
          "text": [
            "No, it is not the maximum number of purchases.\n"
          ]
        }
      ]
    },
    {
      "cell_type": "code",
      "metadata": {
        "colab": {
          "base_uri": "https://localhost:8080/"
        },
        "id": "nJGhl8x1s44B",
        "outputId": "a22b52b8-b8a2-43cb-9d0c-c8aedd15b685"
      },
      "source": [
        "max_purchase = max(total_buying)\n",
        "print(max_purchase)\n",
        "idx_mp = list(total_buying).index(max_purchase)\n",
        "print(\"The details of the product having maximum number of purchases are: \",data[idx_mp])"
      ],
      "execution_count": 60,
      "outputs": [
        {
          "output_type": "stream",
          "name": "stdout",
          "text": [
            "21.0\n",
            "The details of the product having maximum number of purchases are:  ['1121104' '1178' '144533' '30-34' 'M' '16' '2080666' '202' '360.1500015'\n",
            " '40' '21']\n"
          ]
        }
      ]
    },
    {
      "cell_type": "code",
      "metadata": {
        "id": "A6ufalKlvIiw"
      },
      "source": [
        ""
      ],
      "execution_count": null,
      "outputs": []
    }
  ]
}